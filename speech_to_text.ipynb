{
 "cells": [
  {
   "cell_type": "markdown",
   "metadata": {},
   "source": [
    "This notebook contains examples of [Whisper](https://platform.openai.com/docs/guides/speech-to-text) speech-to-text model in action. The audio files used are narrations of [\"The Raven\"](https://librivox.org/12-creepy-tales-by-edgar-allan-poe/) by Edgar Allan Poe and the first chapter of [\"The Golem\"](https://librivox.org/der-golem-by-gustav-meyrink/) by Gustav Meyrink published on [LibriVox](https://librivox.org) under free license."
   ]
  },
  {
   "cell_type": "code",
   "execution_count": 2,
   "metadata": {},
   "outputs": [],
   "source": [
    "import os\n",
    "import openai\n",
    "import IPython\n",
    "from dotenv import load_dotenv"
   ]
  },
  {
   "cell_type": "code",
   "execution_count": 3,
   "metadata": {},
   "outputs": [],
   "source": [
    "# API configuration\n",
    "load_dotenv()\n",
    "openai.api_key = os.getenv(\"OPENAI_API_KEY\")"
   ]
  },
  {
   "cell_type": "code",
   "execution_count": 4,
   "metadata": {},
   "outputs": [],
   "source": [
    "# get the transcript of \"The Raven\"\n",
    "raven_file = open(\"creepytalesbypoe_11_poe_64kb.mp3\", \"rb\")\n",
    "transcript = openai.Audio.transcribe(\"whisper-1\", raven_file)\n",
    "raven_file.close()"
   ]
  },
  {
   "cell_type": "code",
   "execution_count": 5,
   "metadata": {},
   "outputs": [],
   "source": [
    "transcript_text = transcript['text']"
   ]
  },
  {
   "cell_type": "code",
   "execution_count": 6,
   "metadata": {},
   "outputs": [
    {
     "data": {
      "text/markdown": [
       "XI. Drancus Upon a midnight dreary, While I pondered, weak and weary, Over many a quaint and curious volume Of forgotten lore. While I nodded, nearly napping, Suddenly there came a tapping, As of some one gently rapping, Rapping at my chamber-door. —This some visitor, I muttered, Tapping at my chamber-door. Only this, and nothing more. Ah, distinctly I remember. It was in the bleak December, and each separate dying ember wrought its ghost upon the floor. Eagerly I wished the morrow. Vainly I had sought to borrow from my books their seas of sorrow. Sorrow for the lost Lenore. For the rare and radiant maiden whom the angels named Lenore. Nameless here, forevermore. And the silk and sad, uncertain rustling of each purple curtain thrilled me, filled me with fantastic terrors never felt before. So that now, to still the beating of my heart, I stood repeating, Tis some visitor entreating entrance at my chamber door. Some late visitor entreating entrance at my chamber door. This it is, and nothing more. Presently my soul grew stronger. Hesitating then no longer, Sir, said I, or madam, truly your forgiveness I implore, but the fact is I was napping, And so gently you came rapping, and so faintly you came tapping, tapping at my chamber door, that I scarce was sure I heard you. Here I opened wide the door. Darkness there, and nothing more. Deep into that darkness peering, long I stood there, wandering, fearing, doubting, dreaming dreams no mortal ever dared to dream before. But the silence was unbroken, and the darkness gave no token, and the only word there spoken was the whispered word, Lenore. This I whispered, and an echo murmured back the word, Lenore. Merely this, and nothing more. Back into that chamber turning, all my soul within me burning, soon I heard again a tapping, somewhat louder than before. Surely, said I, surely that is something in my window lattice. Let me see then what there it is, and this mystery explore. Let my heart be still a moment, and this mystery explore. Tis the wind, and nothing more. Open here I flung the shutter, when, with many a flirt and flutter, in there stepped the stately raven of the saintly days of yore. Not the least of peasants made he, not an instant stopped or stayed he, but, with mean of lord or lady, perched above my chamber door. Perched upon a bust of pallas just above my chamber door. Perched, and set, and nothing more. Then this ebony bird, beguiling my sad fancy into smiling by the grave and stern decorum of the countenance it wore. Though thy crest be shorn and shaven thou, I said, art sure no craven, ghastly grim and ancient raven wandering from the nightly shore. Tell me what thy lordly name is on the night's plutonian shore. Quoth the raven, never more. Much I marvelled, this ungainly fowl, to hear this course so plainly, though its answer little meaning, little relevance he bore, for we cannot help agreeing that no living human being ever yet was blessed with seeing bird above his chamber door, bird or beast upon the sculpted bust above his chamber door, with such name as never more. But the raven, sitting lonely on the placid bust, spoke only that one word, as if his soul in that one word he did outpour. Nothing further than he uttered, not a feather than he fluttered, till I scarcely more than muttered, other friends have flown before, on the morrow he will leave me, as my hopes have flown before. Then the bird said, never more. Startled at the stillness broken by replies so aptly spoken, doubtless, said I, what it utters is its only stock and store, caught from some unhappy master whom unmerciful disaster followed fast and followed faster till his songs one burden bore, till the dirges of his hope that melancholy burden bore of never, never more. But the raven, still beguiling all my sad soul into smiling, straight I wheeled a cushioned seat in front of bird and bust and door. Then, upon the velvet sinking, I betook myself to linking fancy unto fancy, thinking, what this ominous bird of yore, what this grim, ungainly, ghastly, gaunt and ominous bird of yore, meant in croaking, never more. This I said, engaged in guessing, but no syllable expressing to the foul whose fiery eyes now burned into my bosom's core. This and more I said, divining, with my head at ease reclining on the cushioned velvet lining that the lamplight gloated o'er. But whose velvet-violet lining, with the lamplight gloating o'er, she shall press, never more. Then, methought, the air grew denser, perfumed from an unseen censer swung by angels whose faint footfalls tinkled on the tufted floor. Wretch, I cried, thy God hath lent thee, by these angels he hath sent thee, respite, respite and nepenthe from thy memories of Lenore. Quaff, O quaff this kind nepenthe, and forget this lost Lenore. Quaff the raven, never more. Prophet, said I, think of evil, prophet still, if bird or devil, whether tempest-sand or whether tempest-toss thee here ashore, desolate yet all and daunted, on this desert land, enchanted, on this home, by horror haunted, tell me truly, I implore, is there, is there balm in Gilead? Tell me, tell me, I implore. Quaff the raven, never more. Prophet, said I, think of evil, prophet still, if bird or devil, by that heaven that bends above us, by that God we both adore, tell this soul with sorrow laden, if within the distant Aden it shall clasp a sainted maiden, whom the angels name Lenore, clasp a rare and radiant maiden, whom the angels name Lenore. Quaff the raven, never more. Be that word our sign of parting bird or fiend, I shrieked upstarting, get thee back into the tempest and the nice Plutonian shore, leave no black bloom as a token of that lie that soul hath spoken, leave my loneliness unbroken, quit the bust above my door, take thy beak from out my heart, and take thy form from off my door. Quaff the raven, never more. And of the raven."
      ],
      "text/plain": [
       "<IPython.core.display.Markdown object>"
      ]
     },
     "execution_count": 6,
     "metadata": {},
     "output_type": "execute_result"
    }
   ],
   "source": [
    "IPython.display.Markdown(transcript_text)\n",
    "# The transcript is overall true to the actual text, although there are some errors like \"quaff\" instead of \"quoth\".\n",
    "# Moreover, the narrator's disclaimer about LibriVox is missing."
   ]
  },
  {
   "cell_type": "code",
   "execution_count": 10,
   "metadata": {},
   "outputs": [],
   "source": [
    "# get the translation of the first chapter from \"The Golem\" (German to English)\n",
    "golem_file = open('dergolem_01_meyrink.mp3', 'rb')\n",
    "translation = openai.Audio.translate(\"whisper-1\", golem_file)\n",
    "golem_file.close()"
   ]
  },
  {
   "cell_type": "code",
   "execution_count": 12,
   "metadata": {},
   "outputs": [],
   "source": [
    "translation_text = translation['text']"
   ]
  },
  {
   "cell_type": "code",
   "execution_count": 13,
   "metadata": {},
   "outputs": [
    {
     "data": {
      "text/markdown": [
       "Chapter 1 of the Golem. This is a LibriVox recording. All LibriVox recordings are license-free and in public possession. Further information and information on participation in this project can be found at LibriVox.org. The Golem by Gustav Meyrink. Chapter 1. Sleep. The moonlight falls on the foot of my bed and lies there like a large, bright, flat stone. When the full moon begins to shrink in its shape and its right side begins to decay, like a face that goes against age, first shows and diminishes at a cheek, then my, in such times of the night, a gloomy, painful rest. I do not sleep and do not wake up, and in the half-dream, what is experienced in my soul mixes with what is read and heard, as streams of different colors and clarity flow together. I had read about the life of the Buddha Gautama before I lay down, and in a thousand ways of playing the sentence always began again from the beginning through my senses. A crane flew to a stone that looked like a piece of fat and thought, maybe there is something tasty here. Since the crane did not find anything tasty there, it flew away. Like the crane that approaches the stone, we, the seekers, leave the ascetic Gautama because we have lost our liking for him. The image of the stone that looked like a piece of fat grows into the incredible in my brain. I walk through a dried-out river bed and pick up smooth pebbles. Grey-blue with a silver dust that I sprinkle over and over again, and yet I know nothing about them. Then black with yellow spots, like stone-like attempts to reproduce a child's plump, crumpled mole. And I want to throw them far from me, these pebbles, but they always fall out of my hand and I can't banish them from the area of my eyes. All those stones that have ever played a role in my life, appear all around me. Some are struggling to work their way out of the sand into the light, like large, slender colored pocket crabs when the flood comes back, and as if they wanted to do everything to direct my eyes on them to tell me things of infinite importance. Others, exhausted, fall helplessly back into their holes and give up ever coming to their senses. For a while I drive out of the darkness of these half-dreams and for a moment I see the moonlight lying on the raised foot of my ceiling like a large, bright, flat stone, blinded by new ones, tapping behind my fluctuating consciousness, looking restlessly for that stone that torments me, that has to be hidden somewhere in the rubble of my memory and looks like a piece of fat. Once, I imagine that a rain pipe must have been lying on the ground next to it, bent bluntly, eating the edges of the rubble, and yet I want to force such a picture into my mind to deceive my frightened thoughts and to lull them into sleep. I can't do that. Again and again, with a foolish stubbornness, a strange voice in my mind claims, helplessly like a window-shut, which the wind in regular intervals lets hit the wall, that it is something completely different, that it is not the stone that looks like fat at all. And I can't get rid of that voice. If I turn it a hundred times, all of this is completely irrelevant, so it probably remains silent for a while, but then it wakes up again unnoticed and starts again stubbornly with new things. Well, well, you're right, but it's not the stone that looks like a piece of fat. Slowly, my unbearable feeling of helplessness begins to grow stronger. I don't know how it got on. Did I voluntarily give up any resistance, or did they overwhelm and cripple me, my thoughts? I just know that my body is lying in bed asleep, and my senses are separated and no longer bound to it. Who am I now? I suddenly want to ask. I am thinking that I don't have an organ with which I could ask this question. Then I fear that the stupid voices will wake up again and from now on the endless interrogation about the stone and the fat will begin. And so I turn away. End of chapter 1"
      ],
      "text/plain": [
       "<IPython.core.display.Markdown object>"
      ]
     },
     "execution_count": 13,
     "metadata": {},
     "output_type": "execute_result"
    }
   ],
   "source": [
    "IPython.display.Markdown(translation_text)\n",
    "# The translation seems to be accurate and coherent, it also includes the narrator's disclaimer about LibriVox."
   ]
  },
  {
   "cell_type": "code",
   "execution_count": null,
   "metadata": {},
   "outputs": [],
   "source": []
  }
 ],
 "metadata": {
  "kernelspec": {
   "display_name": "Python 3",
   "language": "python",
   "name": "python3"
  },
  "language_info": {
   "codemirror_mode": {
    "name": "ipython",
    "version": 3
   },
   "file_extension": ".py",
   "mimetype": "text/x-python",
   "name": "python",
   "nbconvert_exporter": "python",
   "pygments_lexer": "ipython3",
   "version": "3.7.6"
  }
 },
 "nbformat": 4,
 "nbformat_minor": 4
}
